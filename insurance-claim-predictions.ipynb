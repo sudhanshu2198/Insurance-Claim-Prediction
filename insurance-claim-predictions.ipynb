{
 "cells": [
  {
   "cell_type": "markdown",
   "id": "b40a30dc",
   "metadata": {
    "papermill": {
     "duration": 0.011512,
     "end_time": "2022-11-13T14:41:47.660302",
     "exception": false,
     "start_time": "2022-11-13T14:41:47.648790",
     "status": "completed"
    },
    "tags": []
   },
   "source": [
    "# Imports"
   ]
  },
  {
   "cell_type": "code",
   "execution_count": 1,
   "id": "9a1a479b",
   "metadata": {
    "execution": {
     "iopub.execute_input": "2022-11-13T14:41:47.683341Z",
     "iopub.status.busy": "2022-11-13T14:41:47.682405Z",
     "iopub.status.idle": "2022-11-13T14:41:50.299011Z",
     "shell.execute_reply": "2022-11-13T14:41:50.298089Z"
    },
    "papermill": {
     "duration": 2.631323,
     "end_time": "2022-11-13T14:41:50.301938",
     "exception": false,
     "start_time": "2022-11-13T14:41:47.670615",
     "status": "completed"
    },
    "tags": []
   },
   "outputs": [
    {
     "data": {
      "text/html": [
       "<style type='text/css'>\n",
       ".datatable table.frame { margin-bottom: 0; }\n",
       ".datatable table.frame thead { border-bottom: none; }\n",
       ".datatable table.frame tr.coltypes td {  color: #FFFFFF;  line-height: 6px;  padding: 0 0.5em;}\n",
       ".datatable .bool    { background: #DDDD99; }\n",
       ".datatable .object  { background: #565656; }\n",
       ".datatable .int     { background: #5D9E5D; }\n",
       ".datatable .float   { background: #4040CC; }\n",
       ".datatable .str     { background: #CC4040; }\n",
       ".datatable .time    { background: #40CC40; }\n",
       ".datatable .row_index {  background: var(--jp-border-color3);  border-right: 1px solid var(--jp-border-color0);  color: var(--jp-ui-font-color3);  font-size: 9px;}\n",
       ".datatable .frame tbody td { text-align: left; }\n",
       ".datatable .frame tr.coltypes .row_index {  background: var(--jp-border-color0);}\n",
       ".datatable th:nth-child(2) { padding-left: 12px; }\n",
       ".datatable .hellipsis {  color: var(--jp-cell-editor-border-color);}\n",
       ".datatable .vellipsis {  background: var(--jp-layout-color0);  color: var(--jp-cell-editor-border-color);}\n",
       ".datatable .na {  color: var(--jp-cell-editor-border-color);  font-size: 80%;}\n",
       ".datatable .sp {  opacity: 0.25;}\n",
       ".datatable .footer { font-size: 9px; }\n",
       ".datatable .frame_dimensions {  background: var(--jp-border-color3);  border-top: 1px solid var(--jp-border-color0);  color: var(--jp-ui-font-color3);  display: inline-block;  opacity: 0.6;  padding: 1px 10px 1px 5px;}\n",
       "</style>\n"
      ],
      "text/plain": [
       "<IPython.core.display.HTML object>"
      ]
     },
     "metadata": {},
     "output_type": "display_data"
    }
   ],
   "source": [
    "import numpy as np \n",
    "import pandas as pd\n",
    "import matplotlib.pyplot as plt\n",
    "import seaborn as sns\n",
    "from sklearn.preprocessing import MinMaxScaler\n",
    "from sklearn.preprocessing import PowerTransformer\n",
    "from sklearn.preprocessing import OrdinalEncoder\n",
    "from sklearn.preprocessing import OneHotEncoder\n",
    "from sklearn.preprocessing import LabelEncoder\n",
    "from sklearn.compose import ColumnTransformer\n",
    "from sklearn.pipeline import make_pipeline\n",
    "from sklearn.metrics import f1_score\n",
    "from sklearn.metrics import make_scorer\n",
    "from sklearn.metrics import classification_report\n",
    "from sklearn.metrics import confusion_matrix\n",
    "from sklearn.model_selection import StratifiedKFold\n",
    "from sklearn.model_selection import cross_val_score\n",
    "from imblearn.combine import SMOTEENN\n",
    "from imblearn.under_sampling import EditedNearestNeighbours\n",
    "from sklearn.linear_model import LogisticRegression\n",
    "from sklearn.neighbors import KNeighborsClassifier\n",
    "from sklearn.ensemble import RandomForestClassifier\n",
    "from sklearn.ensemble import AdaBoostClassifier\n",
    "from xgboost import XGBClassifier\n",
    "from lightgbm import LGBMClassifier\n",
    "%matplotlib inline"
   ]
  },
  {
   "cell_type": "markdown",
   "id": "7e5f4b79",
   "metadata": {
    "papermill": {
     "duration": 0.011849,
     "end_time": "2022-11-13T14:41:50.324381",
     "exception": false,
     "start_time": "2022-11-13T14:41:50.312532",
     "status": "completed"
    },
    "tags": []
   },
   "source": [
    "# Data Summary"
   ]
  },
  {
   "cell_type": "code",
   "execution_count": 2,
   "id": "57138803",
   "metadata": {
    "execution": {
     "iopub.execute_input": "2022-11-13T14:41:50.347202Z",
     "iopub.status.busy": "2022-11-13T14:41:50.346545Z",
     "iopub.status.idle": "2022-11-13T14:41:51.229528Z",
     "shell.execute_reply": "2022-11-13T14:41:51.228278Z"
    },
    "papermill": {
     "duration": 0.897774,
     "end_time": "2022-11-13T14:41:51.232445",
     "exception": false,
     "start_time": "2022-11-13T14:41:50.334671",
     "status": "completed"
    },
    "tags": []
   },
   "outputs": [],
   "source": [
    "train=pd.read_csv('../input/insurance-claim-prediction/train_qWM28Yl.csv')\n",
    "test=pd.read_csv('../input/insurance-claim-prediction/test_zo1G9sv.csv')"
   ]
  },
  {
   "cell_type": "code",
   "execution_count": 3,
   "id": "a5af586d",
   "metadata": {
    "execution": {
     "iopub.execute_input": "2022-11-13T14:41:51.254946Z",
     "iopub.status.busy": "2022-11-13T14:41:51.254505Z",
     "iopub.status.idle": "2022-11-13T14:41:51.261629Z",
     "shell.execute_reply": "2022-11-13T14:41:51.260545Z"
    },
    "papermill": {
     "duration": 0.020943,
     "end_time": "2022-11-13T14:41:51.263823",
     "exception": false,
     "start_time": "2022-11-13T14:41:51.242880",
     "status": "completed"
    },
    "tags": []
   },
   "outputs": [
    {
     "data": {
      "text/plain": [
       "(58592, 44)"
      ]
     },
     "execution_count": 3,
     "metadata": {},
     "output_type": "execute_result"
    }
   ],
   "source": [
    "train.shape"
   ]
  },
  {
   "cell_type": "code",
   "execution_count": 4,
   "id": "799240c7",
   "metadata": {
    "execution": {
     "iopub.execute_input": "2022-11-13T14:41:51.286388Z",
     "iopub.status.busy": "2022-11-13T14:41:51.285954Z",
     "iopub.status.idle": "2022-11-13T14:41:51.321294Z",
     "shell.execute_reply": "2022-11-13T14:41:51.320474Z"
    },
    "papermill": {
     "duration": 0.049073,
     "end_time": "2022-11-13T14:41:51.323338",
     "exception": false,
     "start_time": "2022-11-13T14:41:51.274265",
     "status": "completed"
    },
    "tags": []
   },
   "outputs": [
    {
     "data": {
      "text/html": [
       "<div>\n",
       "<style scoped>\n",
       "    .dataframe tbody tr th:only-of-type {\n",
       "        vertical-align: middle;\n",
       "    }\n",
       "\n",
       "    .dataframe tbody tr th {\n",
       "        vertical-align: top;\n",
       "    }\n",
       "\n",
       "    .dataframe thead th {\n",
       "        text-align: right;\n",
       "    }\n",
       "</style>\n",
       "<table border=\"1\" class=\"dataframe\">\n",
       "  <thead>\n",
       "    <tr style=\"text-align: right;\">\n",
       "      <th></th>\n",
       "      <th>policy_id</th>\n",
       "      <th>policy_tenure</th>\n",
       "      <th>age_of_car</th>\n",
       "      <th>age_of_policyholder</th>\n",
       "      <th>area_cluster</th>\n",
       "      <th>population_density</th>\n",
       "      <th>make</th>\n",
       "      <th>segment</th>\n",
       "      <th>model</th>\n",
       "      <th>fuel_type</th>\n",
       "      <th>...</th>\n",
       "      <th>is_brake_assist</th>\n",
       "      <th>is_power_door_locks</th>\n",
       "      <th>is_central_locking</th>\n",
       "      <th>is_power_steering</th>\n",
       "      <th>is_driver_seat_height_adjustable</th>\n",
       "      <th>is_day_night_rear_view_mirror</th>\n",
       "      <th>is_ecw</th>\n",
       "      <th>is_speed_alert</th>\n",
       "      <th>ncap_rating</th>\n",
       "      <th>is_claim</th>\n",
       "    </tr>\n",
       "  </thead>\n",
       "  <tbody>\n",
       "    <tr>\n",
       "      <th>0</th>\n",
       "      <td>ID00001</td>\n",
       "      <td>0.515874</td>\n",
       "      <td>0.05</td>\n",
       "      <td>0.644231</td>\n",
       "      <td>C1</td>\n",
       "      <td>4990</td>\n",
       "      <td>1</td>\n",
       "      <td>A</td>\n",
       "      <td>M1</td>\n",
       "      <td>CNG</td>\n",
       "      <td>...</td>\n",
       "      <td>No</td>\n",
       "      <td>No</td>\n",
       "      <td>No</td>\n",
       "      <td>Yes</td>\n",
       "      <td>No</td>\n",
       "      <td>No</td>\n",
       "      <td>No</td>\n",
       "      <td>Yes</td>\n",
       "      <td>0</td>\n",
       "      <td>0</td>\n",
       "    </tr>\n",
       "    <tr>\n",
       "      <th>1</th>\n",
       "      <td>ID00002</td>\n",
       "      <td>0.672619</td>\n",
       "      <td>0.02</td>\n",
       "      <td>0.375000</td>\n",
       "      <td>C2</td>\n",
       "      <td>27003</td>\n",
       "      <td>1</td>\n",
       "      <td>A</td>\n",
       "      <td>M1</td>\n",
       "      <td>CNG</td>\n",
       "      <td>...</td>\n",
       "      <td>No</td>\n",
       "      <td>No</td>\n",
       "      <td>No</td>\n",
       "      <td>Yes</td>\n",
       "      <td>No</td>\n",
       "      <td>No</td>\n",
       "      <td>No</td>\n",
       "      <td>Yes</td>\n",
       "      <td>0</td>\n",
       "      <td>0</td>\n",
       "    </tr>\n",
       "    <tr>\n",
       "      <th>2</th>\n",
       "      <td>ID00003</td>\n",
       "      <td>0.841110</td>\n",
       "      <td>0.02</td>\n",
       "      <td>0.384615</td>\n",
       "      <td>C3</td>\n",
       "      <td>4076</td>\n",
       "      <td>1</td>\n",
       "      <td>A</td>\n",
       "      <td>M1</td>\n",
       "      <td>CNG</td>\n",
       "      <td>...</td>\n",
       "      <td>No</td>\n",
       "      <td>No</td>\n",
       "      <td>No</td>\n",
       "      <td>Yes</td>\n",
       "      <td>No</td>\n",
       "      <td>No</td>\n",
       "      <td>No</td>\n",
       "      <td>Yes</td>\n",
       "      <td>0</td>\n",
       "      <td>0</td>\n",
       "    </tr>\n",
       "    <tr>\n",
       "      <th>3</th>\n",
       "      <td>ID00004</td>\n",
       "      <td>0.900277</td>\n",
       "      <td>0.11</td>\n",
       "      <td>0.432692</td>\n",
       "      <td>C4</td>\n",
       "      <td>21622</td>\n",
       "      <td>1</td>\n",
       "      <td>C1</td>\n",
       "      <td>M2</td>\n",
       "      <td>Petrol</td>\n",
       "      <td>...</td>\n",
       "      <td>Yes</td>\n",
       "      <td>Yes</td>\n",
       "      <td>Yes</td>\n",
       "      <td>Yes</td>\n",
       "      <td>Yes</td>\n",
       "      <td>Yes</td>\n",
       "      <td>Yes</td>\n",
       "      <td>Yes</td>\n",
       "      <td>2</td>\n",
       "      <td>0</td>\n",
       "    </tr>\n",
       "    <tr>\n",
       "      <th>4</th>\n",
       "      <td>ID00005</td>\n",
       "      <td>0.596403</td>\n",
       "      <td>0.11</td>\n",
       "      <td>0.634615</td>\n",
       "      <td>C5</td>\n",
       "      <td>34738</td>\n",
       "      <td>2</td>\n",
       "      <td>A</td>\n",
       "      <td>M3</td>\n",
       "      <td>Petrol</td>\n",
       "      <td>...</td>\n",
       "      <td>No</td>\n",
       "      <td>Yes</td>\n",
       "      <td>Yes</td>\n",
       "      <td>Yes</td>\n",
       "      <td>No</td>\n",
       "      <td>Yes</td>\n",
       "      <td>Yes</td>\n",
       "      <td>Yes</td>\n",
       "      <td>2</td>\n",
       "      <td>0</td>\n",
       "    </tr>\n",
       "  </tbody>\n",
       "</table>\n",
       "<p>5 rows × 44 columns</p>\n",
       "</div>"
      ],
      "text/plain": [
       "  policy_id  policy_tenure  age_of_car  age_of_policyholder area_cluster  \\\n",
       "0   ID00001       0.515874        0.05             0.644231           C1   \n",
       "1   ID00002       0.672619        0.02             0.375000           C2   \n",
       "2   ID00003       0.841110        0.02             0.384615           C3   \n",
       "3   ID00004       0.900277        0.11             0.432692           C4   \n",
       "4   ID00005       0.596403        0.11             0.634615           C5   \n",
       "\n",
       "   population_density  make segment model fuel_type  ... is_brake_assist  \\\n",
       "0                4990     1       A    M1       CNG  ...              No   \n",
       "1               27003     1       A    M1       CNG  ...              No   \n",
       "2                4076     1       A    M1       CNG  ...              No   \n",
       "3               21622     1      C1    M2    Petrol  ...             Yes   \n",
       "4               34738     2       A    M3    Petrol  ...              No   \n",
       "\n",
       "  is_power_door_locks is_central_locking  is_power_steering  \\\n",
       "0                  No                 No                Yes   \n",
       "1                  No                 No                Yes   \n",
       "2                  No                 No                Yes   \n",
       "3                 Yes                Yes                Yes   \n",
       "4                 Yes                Yes                Yes   \n",
       "\n",
       "  is_driver_seat_height_adjustable is_day_night_rear_view_mirror is_ecw  \\\n",
       "0                               No                            No     No   \n",
       "1                               No                            No     No   \n",
       "2                               No                            No     No   \n",
       "3                              Yes                           Yes    Yes   \n",
       "4                               No                           Yes    Yes   \n",
       "\n",
       "  is_speed_alert ncap_rating is_claim  \n",
       "0            Yes           0        0  \n",
       "1            Yes           0        0  \n",
       "2            Yes           0        0  \n",
       "3            Yes           2        0  \n",
       "4            Yes           2        0  \n",
       "\n",
       "[5 rows x 44 columns]"
      ]
     },
     "execution_count": 4,
     "metadata": {},
     "output_type": "execute_result"
    }
   ],
   "source": [
    "train.head()"
   ]
  },
  {
   "cell_type": "code",
   "execution_count": 5,
   "id": "8b5f2229",
   "metadata": {
    "execution": {
     "iopub.execute_input": "2022-11-13T14:41:51.346798Z",
     "iopub.status.busy": "2022-11-13T14:41:51.346321Z",
     "iopub.status.idle": "2022-11-13T14:41:51.442908Z",
     "shell.execute_reply": "2022-11-13T14:41:51.441429Z"
    },
    "papermill": {
     "duration": 0.111575,
     "end_time": "2022-11-13T14:41:51.445755",
     "exception": false,
     "start_time": "2022-11-13T14:41:51.334180",
     "status": "completed"
    },
    "tags": []
   },
   "outputs": [
    {
     "name": "stdout",
     "output_type": "stream",
     "text": [
      "<class 'pandas.core.frame.DataFrame'>\n",
      "RangeIndex: 58592 entries, 0 to 58591\n",
      "Data columns (total 44 columns):\n",
      " #   Column                            Non-Null Count  Dtype  \n",
      "---  ------                            --------------  -----  \n",
      " 0   policy_id                         58592 non-null  object \n",
      " 1   policy_tenure                     58592 non-null  float64\n",
      " 2   age_of_car                        58592 non-null  float64\n",
      " 3   age_of_policyholder               58592 non-null  float64\n",
      " 4   area_cluster                      58592 non-null  object \n",
      " 5   population_density                58592 non-null  int64  \n",
      " 6   make                              58592 non-null  int64  \n",
      " 7   segment                           58592 non-null  object \n",
      " 8   model                             58592 non-null  object \n",
      " 9   fuel_type                         58592 non-null  object \n",
      " 10  max_torque                        58592 non-null  object \n",
      " 11  max_power                         58592 non-null  object \n",
      " 12  engine_type                       58592 non-null  object \n",
      " 13  airbags                           58592 non-null  int64  \n",
      " 14  is_esc                            58592 non-null  object \n",
      " 15  is_adjustable_steering            58592 non-null  object \n",
      " 16  is_tpms                           58592 non-null  object \n",
      " 17  is_parking_sensors                58592 non-null  object \n",
      " 18  is_parking_camera                 58592 non-null  object \n",
      " 19  rear_brakes_type                  58592 non-null  object \n",
      " 20  displacement                      58592 non-null  int64  \n",
      " 21  cylinder                          58592 non-null  int64  \n",
      " 22  transmission_type                 58592 non-null  object \n",
      " 23  gear_box                          58592 non-null  int64  \n",
      " 24  steering_type                     58592 non-null  object \n",
      " 25  turning_radius                    58592 non-null  float64\n",
      " 26  length                            58592 non-null  int64  \n",
      " 27  width                             58592 non-null  int64  \n",
      " 28  height                            58592 non-null  int64  \n",
      " 29  gross_weight                      58592 non-null  int64  \n",
      " 30  is_front_fog_lights               58592 non-null  object \n",
      " 31  is_rear_window_wiper              58592 non-null  object \n",
      " 32  is_rear_window_washer             58592 non-null  object \n",
      " 33  is_rear_window_defogger           58592 non-null  object \n",
      " 34  is_brake_assist                   58592 non-null  object \n",
      " 35  is_power_door_locks               58592 non-null  object \n",
      " 36  is_central_locking                58592 non-null  object \n",
      " 37  is_power_steering                 58592 non-null  object \n",
      " 38  is_driver_seat_height_adjustable  58592 non-null  object \n",
      " 39  is_day_night_rear_view_mirror     58592 non-null  object \n",
      " 40  is_ecw                            58592 non-null  object \n",
      " 41  is_speed_alert                    58592 non-null  object \n",
      " 42  ncap_rating                       58592 non-null  int64  \n",
      " 43  is_claim                          58592 non-null  int64  \n",
      "dtypes: float64(4), int64(12), object(28)\n",
      "memory usage: 19.7+ MB\n"
     ]
    }
   ],
   "source": [
    "train.info()"
   ]
  },
  {
   "cell_type": "code",
   "execution_count": 6,
   "id": "b8702fed",
   "metadata": {
    "execution": {
     "iopub.execute_input": "2022-11-13T14:41:51.469592Z",
     "iopub.status.busy": "2022-11-13T14:41:51.469134Z",
     "iopub.status.idle": "2022-11-13T14:41:51.559026Z",
     "shell.execute_reply": "2022-11-13T14:41:51.557830Z"
    },
    "papermill": {
     "duration": 0.104806,
     "end_time": "2022-11-13T14:41:51.561566",
     "exception": false,
     "start_time": "2022-11-13T14:41:51.456760",
     "status": "completed"
    },
    "tags": []
   },
   "outputs": [
    {
     "data": {
      "text/html": [
       "<div>\n",
       "<style scoped>\n",
       "    .dataframe tbody tr th:only-of-type {\n",
       "        vertical-align: middle;\n",
       "    }\n",
       "\n",
       "    .dataframe tbody tr th {\n",
       "        vertical-align: top;\n",
       "    }\n",
       "\n",
       "    .dataframe thead th {\n",
       "        text-align: right;\n",
       "    }\n",
       "</style>\n",
       "<table border=\"1\" class=\"dataframe\">\n",
       "  <thead>\n",
       "    <tr style=\"text-align: right;\">\n",
       "      <th></th>\n",
       "      <th>count</th>\n",
       "      <th>mean</th>\n",
       "      <th>std</th>\n",
       "      <th>min</th>\n",
       "      <th>25%</th>\n",
       "      <th>50%</th>\n",
       "      <th>75%</th>\n",
       "      <th>max</th>\n",
       "    </tr>\n",
       "  </thead>\n",
       "  <tbody>\n",
       "    <tr>\n",
       "      <th>policy_tenure</th>\n",
       "      <td>58592.0</td>\n",
       "      <td>0.611246</td>\n",
       "      <td>0.414156</td>\n",
       "      <td>0.002735</td>\n",
       "      <td>0.210250</td>\n",
       "      <td>0.573792</td>\n",
       "      <td>1.039104</td>\n",
       "      <td>1.396641</td>\n",
       "    </tr>\n",
       "    <tr>\n",
       "      <th>age_of_car</th>\n",
       "      <td>58592.0</td>\n",
       "      <td>0.069424</td>\n",
       "      <td>0.056721</td>\n",
       "      <td>0.000000</td>\n",
       "      <td>0.020000</td>\n",
       "      <td>0.060000</td>\n",
       "      <td>0.110000</td>\n",
       "      <td>1.000000</td>\n",
       "    </tr>\n",
       "    <tr>\n",
       "      <th>age_of_policyholder</th>\n",
       "      <td>58592.0</td>\n",
       "      <td>0.469420</td>\n",
       "      <td>0.122886</td>\n",
       "      <td>0.288462</td>\n",
       "      <td>0.365385</td>\n",
       "      <td>0.451923</td>\n",
       "      <td>0.548077</td>\n",
       "      <td>1.000000</td>\n",
       "    </tr>\n",
       "    <tr>\n",
       "      <th>population_density</th>\n",
       "      <td>58592.0</td>\n",
       "      <td>18826.858667</td>\n",
       "      <td>17660.174792</td>\n",
       "      <td>290.000000</td>\n",
       "      <td>6112.000000</td>\n",
       "      <td>8794.000000</td>\n",
       "      <td>27003.000000</td>\n",
       "      <td>73430.000000</td>\n",
       "    </tr>\n",
       "    <tr>\n",
       "      <th>make</th>\n",
       "      <td>58592.0</td>\n",
       "      <td>1.763722</td>\n",
       "      <td>1.136988</td>\n",
       "      <td>1.000000</td>\n",
       "      <td>1.000000</td>\n",
       "      <td>1.000000</td>\n",
       "      <td>3.000000</td>\n",
       "      <td>5.000000</td>\n",
       "    </tr>\n",
       "    <tr>\n",
       "      <th>airbags</th>\n",
       "      <td>58592.0</td>\n",
       "      <td>3.137066</td>\n",
       "      <td>1.832641</td>\n",
       "      <td>1.000000</td>\n",
       "      <td>2.000000</td>\n",
       "      <td>2.000000</td>\n",
       "      <td>6.000000</td>\n",
       "      <td>6.000000</td>\n",
       "    </tr>\n",
       "    <tr>\n",
       "      <th>displacement</th>\n",
       "      <td>58592.0</td>\n",
       "      <td>1162.355851</td>\n",
       "      <td>266.304786</td>\n",
       "      <td>796.000000</td>\n",
       "      <td>796.000000</td>\n",
       "      <td>1197.000000</td>\n",
       "      <td>1493.000000</td>\n",
       "      <td>1498.000000</td>\n",
       "    </tr>\n",
       "    <tr>\n",
       "      <th>cylinder</th>\n",
       "      <td>58592.0</td>\n",
       "      <td>3.626963</td>\n",
       "      <td>0.483616</td>\n",
       "      <td>3.000000</td>\n",
       "      <td>3.000000</td>\n",
       "      <td>4.000000</td>\n",
       "      <td>4.000000</td>\n",
       "      <td>4.000000</td>\n",
       "    </tr>\n",
       "    <tr>\n",
       "      <th>gear_box</th>\n",
       "      <td>58592.0</td>\n",
       "      <td>5.245443</td>\n",
       "      <td>0.430353</td>\n",
       "      <td>5.000000</td>\n",
       "      <td>5.000000</td>\n",
       "      <td>5.000000</td>\n",
       "      <td>5.000000</td>\n",
       "      <td>6.000000</td>\n",
       "    </tr>\n",
       "    <tr>\n",
       "      <th>turning_radius</th>\n",
       "      <td>58592.0</td>\n",
       "      <td>4.852893</td>\n",
       "      <td>0.228061</td>\n",
       "      <td>4.500000</td>\n",
       "      <td>4.600000</td>\n",
       "      <td>4.800000</td>\n",
       "      <td>5.000000</td>\n",
       "      <td>5.200000</td>\n",
       "    </tr>\n",
       "    <tr>\n",
       "      <th>length</th>\n",
       "      <td>58592.0</td>\n",
       "      <td>3850.476891</td>\n",
       "      <td>311.457119</td>\n",
       "      <td>3445.000000</td>\n",
       "      <td>3445.000000</td>\n",
       "      <td>3845.000000</td>\n",
       "      <td>3995.000000</td>\n",
       "      <td>4300.000000</td>\n",
       "    </tr>\n",
       "    <tr>\n",
       "      <th>width</th>\n",
       "      <td>58592.0</td>\n",
       "      <td>1672.233667</td>\n",
       "      <td>112.089135</td>\n",
       "      <td>1475.000000</td>\n",
       "      <td>1515.000000</td>\n",
       "      <td>1735.000000</td>\n",
       "      <td>1755.000000</td>\n",
       "      <td>1811.000000</td>\n",
       "    </tr>\n",
       "    <tr>\n",
       "      <th>height</th>\n",
       "      <td>58592.0</td>\n",
       "      <td>1553.335370</td>\n",
       "      <td>79.622270</td>\n",
       "      <td>1475.000000</td>\n",
       "      <td>1475.000000</td>\n",
       "      <td>1530.000000</td>\n",
       "      <td>1635.000000</td>\n",
       "      <td>1825.000000</td>\n",
       "    </tr>\n",
       "    <tr>\n",
       "      <th>gross_weight</th>\n",
       "      <td>58592.0</td>\n",
       "      <td>1385.276813</td>\n",
       "      <td>212.423085</td>\n",
       "      <td>1051.000000</td>\n",
       "      <td>1185.000000</td>\n",
       "      <td>1335.000000</td>\n",
       "      <td>1510.000000</td>\n",
       "      <td>1720.000000</td>\n",
       "    </tr>\n",
       "    <tr>\n",
       "      <th>ncap_rating</th>\n",
       "      <td>58592.0</td>\n",
       "      <td>1.759950</td>\n",
       "      <td>1.389576</td>\n",
       "      <td>0.000000</td>\n",
       "      <td>0.000000</td>\n",
       "      <td>2.000000</td>\n",
       "      <td>3.000000</td>\n",
       "      <td>5.000000</td>\n",
       "    </tr>\n",
       "    <tr>\n",
       "      <th>is_claim</th>\n",
       "      <td>58592.0</td>\n",
       "      <td>0.063968</td>\n",
       "      <td>0.244698</td>\n",
       "      <td>0.000000</td>\n",
       "      <td>0.000000</td>\n",
       "      <td>0.000000</td>\n",
       "      <td>0.000000</td>\n",
       "      <td>1.000000</td>\n",
       "    </tr>\n",
       "  </tbody>\n",
       "</table>\n",
       "</div>"
      ],
      "text/plain": [
       "                       count          mean           std          min  \\\n",
       "policy_tenure        58592.0      0.611246      0.414156     0.002735   \n",
       "age_of_car           58592.0      0.069424      0.056721     0.000000   \n",
       "age_of_policyholder  58592.0      0.469420      0.122886     0.288462   \n",
       "population_density   58592.0  18826.858667  17660.174792   290.000000   \n",
       "make                 58592.0      1.763722      1.136988     1.000000   \n",
       "airbags              58592.0      3.137066      1.832641     1.000000   \n",
       "displacement         58592.0   1162.355851    266.304786   796.000000   \n",
       "cylinder             58592.0      3.626963      0.483616     3.000000   \n",
       "gear_box             58592.0      5.245443      0.430353     5.000000   \n",
       "turning_radius       58592.0      4.852893      0.228061     4.500000   \n",
       "length               58592.0   3850.476891    311.457119  3445.000000   \n",
       "width                58592.0   1672.233667    112.089135  1475.000000   \n",
       "height               58592.0   1553.335370     79.622270  1475.000000   \n",
       "gross_weight         58592.0   1385.276813    212.423085  1051.000000   \n",
       "ncap_rating          58592.0      1.759950      1.389576     0.000000   \n",
       "is_claim             58592.0      0.063968      0.244698     0.000000   \n",
       "\n",
       "                             25%          50%           75%           max  \n",
       "policy_tenure           0.210250     0.573792      1.039104      1.396641  \n",
       "age_of_car              0.020000     0.060000      0.110000      1.000000  \n",
       "age_of_policyholder     0.365385     0.451923      0.548077      1.000000  \n",
       "population_density   6112.000000  8794.000000  27003.000000  73430.000000  \n",
       "make                    1.000000     1.000000      3.000000      5.000000  \n",
       "airbags                 2.000000     2.000000      6.000000      6.000000  \n",
       "displacement          796.000000  1197.000000   1493.000000   1498.000000  \n",
       "cylinder                3.000000     4.000000      4.000000      4.000000  \n",
       "gear_box                5.000000     5.000000      5.000000      6.000000  \n",
       "turning_radius          4.600000     4.800000      5.000000      5.200000  \n",
       "length               3445.000000  3845.000000   3995.000000   4300.000000  \n",
       "width                1515.000000  1735.000000   1755.000000   1811.000000  \n",
       "height               1475.000000  1530.000000   1635.000000   1825.000000  \n",
       "gross_weight         1185.000000  1335.000000   1510.000000   1720.000000  \n",
       "ncap_rating             0.000000     2.000000      3.000000      5.000000  \n",
       "is_claim                0.000000     0.000000      0.000000      1.000000  "
      ]
     },
     "execution_count": 6,
     "metadata": {},
     "output_type": "execute_result"
    }
   ],
   "source": [
    "train.describe().T"
   ]
  },
  {
   "cell_type": "code",
   "execution_count": 7,
   "id": "4131344c",
   "metadata": {
    "execution": {
     "iopub.execute_input": "2022-11-13T14:41:51.586257Z",
     "iopub.status.busy": "2022-11-13T14:41:51.585603Z",
     "iopub.status.idle": "2022-11-13T14:41:51.851564Z",
     "shell.execute_reply": "2022-11-13T14:41:51.850404Z"
    },
    "papermill": {
     "duration": 0.281217,
     "end_time": "2022-11-13T14:41:51.854091",
     "exception": false,
     "start_time": "2022-11-13T14:41:51.572874",
     "status": "completed"
    },
    "tags": []
   },
   "outputs": [
    {
     "data": {
      "text/html": [
       "<div>\n",
       "<style scoped>\n",
       "    .dataframe tbody tr th:only-of-type {\n",
       "        vertical-align: middle;\n",
       "    }\n",
       "\n",
       "    .dataframe tbody tr th {\n",
       "        vertical-align: top;\n",
       "    }\n",
       "\n",
       "    .dataframe thead th {\n",
       "        text-align: right;\n",
       "    }\n",
       "</style>\n",
       "<table border=\"1\" class=\"dataframe\">\n",
       "  <thead>\n",
       "    <tr style=\"text-align: right;\">\n",
       "      <th></th>\n",
       "      <th>count</th>\n",
       "      <th>unique</th>\n",
       "      <th>top</th>\n",
       "      <th>freq</th>\n",
       "    </tr>\n",
       "  </thead>\n",
       "  <tbody>\n",
       "    <tr>\n",
       "      <th>policy_id</th>\n",
       "      <td>58592</td>\n",
       "      <td>58592</td>\n",
       "      <td>ID00001</td>\n",
       "      <td>1</td>\n",
       "    </tr>\n",
       "    <tr>\n",
       "      <th>area_cluster</th>\n",
       "      <td>58592</td>\n",
       "      <td>22</td>\n",
       "      <td>C8</td>\n",
       "      <td>13654</td>\n",
       "    </tr>\n",
       "    <tr>\n",
       "      <th>segment</th>\n",
       "      <td>58592</td>\n",
       "      <td>6</td>\n",
       "      <td>B2</td>\n",
       "      <td>18314</td>\n",
       "    </tr>\n",
       "    <tr>\n",
       "      <th>model</th>\n",
       "      <td>58592</td>\n",
       "      <td>11</td>\n",
       "      <td>M1</td>\n",
       "      <td>14948</td>\n",
       "    </tr>\n",
       "    <tr>\n",
       "      <th>fuel_type</th>\n",
       "      <td>58592</td>\n",
       "      <td>3</td>\n",
       "      <td>Petrol</td>\n",
       "      <td>20532</td>\n",
       "    </tr>\n",
       "    <tr>\n",
       "      <th>max_torque</th>\n",
       "      <td>58592</td>\n",
       "      <td>9</td>\n",
       "      <td>113Nm@4400rpm</td>\n",
       "      <td>17796</td>\n",
       "    </tr>\n",
       "    <tr>\n",
       "      <th>max_power</th>\n",
       "      <td>58592</td>\n",
       "      <td>9</td>\n",
       "      <td>88.50bhp@6000rpm</td>\n",
       "      <td>17796</td>\n",
       "    </tr>\n",
       "    <tr>\n",
       "      <th>engine_type</th>\n",
       "      <td>58592</td>\n",
       "      <td>11</td>\n",
       "      <td>F8D Petrol Engine</td>\n",
       "      <td>14948</td>\n",
       "    </tr>\n",
       "    <tr>\n",
       "      <th>is_esc</th>\n",
       "      <td>58592</td>\n",
       "      <td>2</td>\n",
       "      <td>No</td>\n",
       "      <td>40191</td>\n",
       "    </tr>\n",
       "    <tr>\n",
       "      <th>is_adjustable_steering</th>\n",
       "      <td>58592</td>\n",
       "      <td>2</td>\n",
       "      <td>Yes</td>\n",
       "      <td>35526</td>\n",
       "    </tr>\n",
       "    <tr>\n",
       "      <th>is_tpms</th>\n",
       "      <td>58592</td>\n",
       "      <td>2</td>\n",
       "      <td>No</td>\n",
       "      <td>44574</td>\n",
       "    </tr>\n",
       "    <tr>\n",
       "      <th>is_parking_sensors</th>\n",
       "      <td>58592</td>\n",
       "      <td>2</td>\n",
       "      <td>Yes</td>\n",
       "      <td>56219</td>\n",
       "    </tr>\n",
       "    <tr>\n",
       "      <th>is_parking_camera</th>\n",
       "      <td>58592</td>\n",
       "      <td>2</td>\n",
       "      <td>No</td>\n",
       "      <td>35704</td>\n",
       "    </tr>\n",
       "    <tr>\n",
       "      <th>rear_brakes_type</th>\n",
       "      <td>58592</td>\n",
       "      <td>2</td>\n",
       "      <td>Drum</td>\n",
       "      <td>44574</td>\n",
       "    </tr>\n",
       "    <tr>\n",
       "      <th>transmission_type</th>\n",
       "      <td>58592</td>\n",
       "      <td>2</td>\n",
       "      <td>Manual</td>\n",
       "      <td>38181</td>\n",
       "    </tr>\n",
       "    <tr>\n",
       "      <th>steering_type</th>\n",
       "      <td>58592</td>\n",
       "      <td>3</td>\n",
       "      <td>Power</td>\n",
       "      <td>33502</td>\n",
       "    </tr>\n",
       "    <tr>\n",
       "      <th>is_front_fog_lights</th>\n",
       "      <td>58592</td>\n",
       "      <td>2</td>\n",
       "      <td>Yes</td>\n",
       "      <td>33928</td>\n",
       "    </tr>\n",
       "    <tr>\n",
       "      <th>is_rear_window_wiper</th>\n",
       "      <td>58592</td>\n",
       "      <td>2</td>\n",
       "      <td>No</td>\n",
       "      <td>41634</td>\n",
       "    </tr>\n",
       "    <tr>\n",
       "      <th>is_rear_window_washer</th>\n",
       "      <td>58592</td>\n",
       "      <td>2</td>\n",
       "      <td>No</td>\n",
       "      <td>41634</td>\n",
       "    </tr>\n",
       "    <tr>\n",
       "      <th>is_rear_window_defogger</th>\n",
       "      <td>58592</td>\n",
       "      <td>2</td>\n",
       "      <td>No</td>\n",
       "      <td>38077</td>\n",
       "    </tr>\n",
       "    <tr>\n",
       "      <th>is_brake_assist</th>\n",
       "      <td>58592</td>\n",
       "      <td>2</td>\n",
       "      <td>Yes</td>\n",
       "      <td>32177</td>\n",
       "    </tr>\n",
       "    <tr>\n",
       "      <th>is_power_door_locks</th>\n",
       "      <td>58592</td>\n",
       "      <td>2</td>\n",
       "      <td>Yes</td>\n",
       "      <td>42435</td>\n",
       "    </tr>\n",
       "    <tr>\n",
       "      <th>is_central_locking</th>\n",
       "      <td>58592</td>\n",
       "      <td>2</td>\n",
       "      <td>Yes</td>\n",
       "      <td>42435</td>\n",
       "    </tr>\n",
       "    <tr>\n",
       "      <th>is_power_steering</th>\n",
       "      <td>58592</td>\n",
       "      <td>2</td>\n",
       "      <td>Yes</td>\n",
       "      <td>57383</td>\n",
       "    </tr>\n",
       "    <tr>\n",
       "      <th>is_driver_seat_height_adjustable</th>\n",
       "      <td>58592</td>\n",
       "      <td>2</td>\n",
       "      <td>Yes</td>\n",
       "      <td>34291</td>\n",
       "    </tr>\n",
       "    <tr>\n",
       "      <th>is_day_night_rear_view_mirror</th>\n",
       "      <td>58592</td>\n",
       "      <td>2</td>\n",
       "      <td>No</td>\n",
       "      <td>36309</td>\n",
       "    </tr>\n",
       "    <tr>\n",
       "      <th>is_ecw</th>\n",
       "      <td>58592</td>\n",
       "      <td>2</td>\n",
       "      <td>Yes</td>\n",
       "      <td>42435</td>\n",
       "    </tr>\n",
       "    <tr>\n",
       "      <th>is_speed_alert</th>\n",
       "      <td>58592</td>\n",
       "      <td>2</td>\n",
       "      <td>Yes</td>\n",
       "      <td>58229</td>\n",
       "    </tr>\n",
       "  </tbody>\n",
       "</table>\n",
       "</div>"
      ],
      "text/plain": [
       "                                  count unique                top   freq\n",
       "policy_id                         58592  58592            ID00001      1\n",
       "area_cluster                      58592     22                 C8  13654\n",
       "segment                           58592      6                 B2  18314\n",
       "model                             58592     11                 M1  14948\n",
       "fuel_type                         58592      3             Petrol  20532\n",
       "max_torque                        58592      9      113Nm@4400rpm  17796\n",
       "max_power                         58592      9   88.50bhp@6000rpm  17796\n",
       "engine_type                       58592     11  F8D Petrol Engine  14948\n",
       "is_esc                            58592      2                 No  40191\n",
       "is_adjustable_steering            58592      2                Yes  35526\n",
       "is_tpms                           58592      2                 No  44574\n",
       "is_parking_sensors                58592      2                Yes  56219\n",
       "is_parking_camera                 58592      2                 No  35704\n",
       "rear_brakes_type                  58592      2               Drum  44574\n",
       "transmission_type                 58592      2             Manual  38181\n",
       "steering_type                     58592      3              Power  33502\n",
       "is_front_fog_lights               58592      2                Yes  33928\n",
       "is_rear_window_wiper              58592      2                 No  41634\n",
       "is_rear_window_washer             58592      2                 No  41634\n",
       "is_rear_window_defogger           58592      2                 No  38077\n",
       "is_brake_assist                   58592      2                Yes  32177\n",
       "is_power_door_locks               58592      2                Yes  42435\n",
       "is_central_locking                58592      2                Yes  42435\n",
       "is_power_steering                 58592      2                Yes  57383\n",
       "is_driver_seat_height_adjustable  58592      2                Yes  34291\n",
       "is_day_night_rear_view_mirror     58592      2                 No  36309\n",
       "is_ecw                            58592      2                Yes  42435\n",
       "is_speed_alert                    58592      2                Yes  58229"
      ]
     },
     "execution_count": 7,
     "metadata": {},
     "output_type": "execute_result"
    }
   ],
   "source": [
    "train.describe(include='object').T"
   ]
  },
  {
   "cell_type": "code",
   "execution_count": 8,
   "id": "13e8aba5",
   "metadata": {
    "execution": {
     "iopub.execute_input": "2022-11-13T14:41:51.879687Z",
     "iopub.status.busy": "2022-11-13T14:41:51.879213Z",
     "iopub.status.idle": "2022-11-13T14:41:51.958964Z",
     "shell.execute_reply": "2022-11-13T14:41:51.957560Z"
    },
    "papermill": {
     "duration": 0.095434,
     "end_time": "2022-11-13T14:41:51.961646",
     "exception": false,
     "start_time": "2022-11-13T14:41:51.866212",
     "status": "completed"
    },
    "tags": []
   },
   "outputs": [
    {
     "data": {
      "text/plain": [
       "False"
      ]
     },
     "execution_count": 8,
     "metadata": {},
     "output_type": "execute_result"
    }
   ],
   "source": [
    "train.isnull().sum().any()"
   ]
  },
  {
   "cell_type": "code",
   "execution_count": 9,
   "id": "e41cd289",
   "metadata": {
    "execution": {
     "iopub.execute_input": "2022-11-13T14:41:51.987519Z",
     "iopub.status.busy": "2022-11-13T14:41:51.986530Z",
     "iopub.status.idle": "2022-11-13T14:41:52.154555Z",
     "shell.execute_reply": "2022-11-13T14:41:52.153470Z"
    },
    "papermill": {
     "duration": 0.183503,
     "end_time": "2022-11-13T14:41:52.157012",
     "exception": false,
     "start_time": "2022-11-13T14:41:51.973509",
     "status": "completed"
    },
    "tags": []
   },
   "outputs": [
    {
     "data": {
      "text/plain": [
       "False"
      ]
     },
     "execution_count": 9,
     "metadata": {},
     "output_type": "execute_result"
    }
   ],
   "source": [
    "train.duplicated().any()"
   ]
  },
  {
   "cell_type": "code",
   "execution_count": 10,
   "id": "b2d29d15",
   "metadata": {
    "execution": {
     "iopub.execute_input": "2022-11-13T14:41:52.182387Z",
     "iopub.status.busy": "2022-11-13T14:41:52.181983Z",
     "iopub.status.idle": "2022-11-13T14:41:52.188226Z",
     "shell.execute_reply": "2022-11-13T14:41:52.186978Z"
    },
    "papermill": {
     "duration": 0.021608,
     "end_time": "2022-11-13T14:41:52.190568",
     "exception": false,
     "start_time": "2022-11-13T14:41:52.168960",
     "status": "completed"
    },
    "tags": []
   },
   "outputs": [],
   "source": [
    "plt.style.use('ggplot')\n",
    "plt.rcParams['figure.figsize']=(12,8)"
   ]
  },
  {
   "cell_type": "code",
   "execution_count": 11,
   "id": "3b50c414",
   "metadata": {
    "execution": {
     "iopub.execute_input": "2022-11-13T14:41:52.217145Z",
     "iopub.status.busy": "2022-11-13T14:41:52.216720Z",
     "iopub.status.idle": "2022-11-13T14:41:52.359590Z",
     "shell.execute_reply": "2022-11-13T14:41:52.358319Z"
    },
    "papermill": {
     "duration": 0.159378,
     "end_time": "2022-11-13T14:41:52.362227",
     "exception": false,
     "start_time": "2022-11-13T14:41:52.202849",
     "status": "completed"
    },
    "tags": []
   },
   "outputs": [
    {
     "data": {
      "image/png": "[encoded data removed]",
      "text/plain": [
       "<Figure size 864x576 with 1 Axes>"
      ]
     },
     "metadata": {},
     "output_type": "display_data"
    }
   ],
   "source": [
    "inter=train['is_claim'].value_counts()\n",
    "plt.pie(inter,labels=inter.index,autopct='%0.1f%%',explode=[0.0,0.2]);"
   ]
  },
  {
   "cell_type": "markdown",
   "id": "187499e7",
   "metadata": {
    "papermill": {
     "duration": 0.011912,
     "end_time": "2022-11-13T14:41:52.386478",
     "exception": false,
     "start_time": "2022-11-13T14:41:52.374566",
     "status": "completed"
    },
    "tags": []
   },
   "source": [
    "# Data Preprocessing"
   ]
  },
  {
   "cell_type": "code",
   "execution_count": 12,
   "id": "8856c682",
   "metadata": {
    "execution": {
     "iopub.execute_input": "2022-11-13T14:41:52.413565Z",
     "iopub.status.busy": "2022-11-13T14:41:52.413179Z",
     "iopub.status.idle": "2022-11-13T14:41:52.455975Z",
     "shell.execute_reply": "2022-11-13T14:41:52.454739Z"
    },
    "papermill": {
     "duration": 0.059592,
     "end_time": "2022-11-13T14:41:52.458852",
     "exception": false,
     "start_time": "2022-11-13T14:41:52.399260",
     "status": "completed"
    },
    "tags": []
   },
   "outputs": [],
   "source": [
    "X_train=train.drop(['policy_id','is_claim'],axis=1)\n",
    "X_test=test.drop(['policy_id'],axis=1)\n",
    "y_train=train['is_claim']\n",
    "\n",
    "encode=LabelEncoder()\n",
    "y_train=encode.fit_transform(y_train)"
   ]
  },
  {
   "cell_type": "code",
   "execution_count": 13,
   "id": "ccdee4be",
   "metadata": {
    "execution": {
     "iopub.execute_input": "2022-11-13T14:41:52.485222Z",
     "iopub.status.busy": "2022-11-13T14:41:52.484805Z",
     "iopub.status.idle": "2022-11-13T14:41:52.499217Z",
     "shell.execute_reply": "2022-11-13T14:41:52.498007Z"
    },
    "papermill": {
     "duration": 0.030712,
     "end_time": "2022-11-13T14:41:52.501840",
     "exception": false,
     "start_time": "2022-11-13T14:41:52.471128",
     "status": "completed"
    },
    "tags": []
   },
   "outputs": [
    {
     "data": {
      "text/plain": [
       "Index(['policy_tenure', 'age_of_car', 'age_of_policyholder',\n",
       "       'population_density', 'make', 'airbags', 'displacement', 'cylinder',\n",
       "       'gear_box', 'turning_radius', 'length', 'width', 'height',\n",
       "       'gross_weight', 'ncap_rating'],\n",
       "      dtype='object')"
      ]
     },
     "execution_count": 13,
     "metadata": {},
     "output_type": "execute_result"
    }
   ],
   "source": [
    "numeric_col=X_train.select_dtypes(exclude='object').columns\n",
    "numeric_col"
   ]
  },
  {
   "cell_type": "code",
   "execution_count": 14,
   "id": "ce937675",
   "metadata": {
    "execution": {
     "iopub.execute_input": "2022-11-13T14:41:52.528981Z",
     "iopub.status.busy": "2022-11-13T14:41:52.528525Z",
     "iopub.status.idle": "2022-11-13T14:41:52.789902Z",
     "shell.execute_reply": "2022-11-13T14:41:52.788715Z"
    },
    "papermill": {
     "duration": 0.279355,
     "end_time": "2022-11-13T14:41:52.794101",
     "exception": false,
     "start_time": "2022-11-13T14:41:52.514746",
     "status": "completed"
    },
    "tags": []
   },
   "outputs": [
    {
     "name": "stdout",
     "output_type": "stream",
     "text": [
      "Low cardinality categorical columns:\n",
      "\n",
      " ['segment', 'fuel_type', 'max_torque', 'max_power', 'is_esc', 'is_adjustable_steering', 'is_tpms', 'is_parking_sensors', 'is_parking_camera', 'rear_brakes_type', 'transmission_type', 'steering_type', 'is_front_fog_lights', 'is_rear_window_wiper', 'is_rear_window_washer', 'is_rear_window_defogger', 'is_brake_assist', 'is_power_door_locks', 'is_central_locking', 'is_power_steering', 'is_driver_seat_height_adjustable', 'is_day_night_rear_view_mirror', 'is_ecw', 'is_speed_alert']\n",
      "\n",
      "High cardinality categorical columns:\n",
      "\n",
      " ['area_cluster', 'model', 'engine_type']\n"
     ]
    }
   ],
   "source": [
    "categorical_col=X_train.select_dtypes(include='object').columns\n",
    "\n",
    "# low cardinality categorical columns\n",
    "categorical_col_low=[i for i in categorical_col if train[i].nunique()<=10]\n",
    "\n",
    "# high cardinality categorical columns\n",
    "categorical_col_high=[i for i in categorical_col if train[i].nunique()>10]\n",
    "\n",
    "print(f'Low cardinality categorical columns:\\n\\n {categorical_col_low}')\n",
    "print(f'\\nHigh cardinality categorical columns:\\n\\n {categorical_col_high}')"
   ]
  },
  {
   "cell_type": "code",
   "execution_count": 15,
   "id": "f7d08278",
   "metadata": {
    "execution": {
     "iopub.execute_input": "2022-11-13T14:41:52.823204Z",
     "iopub.status.busy": "2022-11-13T14:41:52.822460Z",
     "iopub.status.idle": "2022-11-13T14:41:55.284065Z",
     "shell.execute_reply": "2022-11-13T14:41:55.283136Z"
    },
    "papermill": {
     "duration": 2.479577,
     "end_time": "2022-11-13T14:41:55.286640",
     "exception": false,
     "start_time": "2022-11-13T14:41:52.807063",
     "status": "completed"
    },
    "tags": []
   },
   "outputs": [],
   "source": [
    "pipeline=make_pipeline(MinMaxScaler(),PowerTransformer())\n",
    "\n",
    "transformers=[('st',pipeline,numeric_col),\n",
    "              ('or',OrdinalEncoder(),categorical_col_high),\n",
    "              ('oh',OneHotEncoder(),categorical_col_low )]\n",
    "\n",
    "transform=ColumnTransformer(transformers)\n",
    "transform.fit(X_train)\n",
    "\n",
    "X_train=transform.transform(X_train)\n",
    "X_test=transform.transform(X_test)"
   ]
  },
  {
   "cell_type": "markdown",
   "id": "69790560",
   "metadata": {
    "papermill": {
     "duration": 0.016106,
     "end_time": "2022-11-13T14:41:55.316244",
     "exception": false,
     "start_time": "2022-11-13T14:41:55.300138",
     "status": "completed"
    },
    "tags": []
   },
   "source": [
    "# Evalution Procedure"
   ]
  },
  {
   "cell_type": "code",
   "execution_count": 16,
   "id": "8bc4fd9c",
   "metadata": {
    "execution": {
     "iopub.execute_input": "2022-11-13T14:41:55.344491Z",
     "iopub.status.busy": "2022-11-13T14:41:55.343662Z",
     "iopub.status.idle": "2022-11-13T14:41:55.350081Z",
     "shell.execute_reply": "2022-11-13T14:41:55.349220Z"
    },
    "papermill": {
     "duration": 0.023385,
     "end_time": "2022-11-13T14:41:55.352612",
     "exception": false,
     "start_time": "2022-11-13T14:41:55.329227",
     "status": "completed"
    },
    "tags": []
   },
   "outputs": [],
   "source": [
    "def evaluate(X,y):\n",
    "    \n",
    "    models,names=get_models()\n",
    "    results=[]\n",
    "    \n",
    "    for i in range(len(models)):\n",
    "        cv=StratifiedKFold(n_splits=5)\n",
    "        metric=make_scorer(f1_score)\n",
    "        scores=cross_val_score(models[i],X,y,scoring=metric,cv=cv)\n",
    "        \n",
    "        results.append(scores)\n",
    "        \n",
    "    plt.boxplot(results,labels=names,showmeans=True);"
   ]
  },
  {
   "cell_type": "markdown",
   "id": "6eec94f8",
   "metadata": {
    "papermill": {
     "duration": 0.012025,
     "end_time": "2022-11-13T14:41:55.377065",
     "exception": false,
     "start_time": "2022-11-13T14:41:55.365040",
     "status": "completed"
    },
    "tags": []
   },
   "source": [
    "# Algorithm Spot Checking"
   ]
  },
  {
   "cell_type": "code",
   "execution_count": 17,
   "id": "1be424fe",
   "metadata": {
    "execution": {
     "iopub.execute_input": "2022-11-13T14:41:55.404827Z",
     "iopub.status.busy": "2022-11-13T14:41:55.403548Z",
     "iopub.status.idle": "2022-11-13T14:41:55.411047Z",
     "shell.execute_reply": "2022-11-13T14:41:55.410014Z"
    },
    "papermill": {
     "duration": 0.024083,
     "end_time": "2022-11-13T14:41:55.413516",
     "exception": false,
     "start_time": "2022-11-13T14:41:55.389433",
     "status": "completed"
    },
    "tags": []
   },
   "outputs": [],
   "source": [
    "def get_models():\n",
    "    \n",
    "    models=[]\n",
    "    names=[]\n",
    "    \n",
    "    models.append(LogisticRegression())\n",
    "    names.append('lr')               \n",
    "                  \n",
    "    models.append(RandomForestClassifier())\n",
    "    names.append('rf')\n",
    "    \n",
    "    models.append(XGBClassifier())\n",
    "    names.append('xgb')\n",
    "    \n",
    "    models.append(LGBMClassifier())\n",
    "    names.append('lgb')\n",
    "    \n",
    "    return models,names"
   ]
  },
  {
   "cell_type": "code",
   "execution_count": 18,
   "id": "3386578e",
   "metadata": {
    "execution": {
     "iopub.execute_input": "2022-11-13T14:41:55.440963Z",
     "iopub.status.busy": "2022-11-13T14:41:55.439692Z",
     "iopub.status.idle": "2022-11-13T14:43:39.068706Z",
     "shell.execute_reply": "2022-11-13T14:43:39.067680Z"
    },
    "papermill": {
     "duration": 103.65843,
     "end_time": "2022-11-13T14:43:39.084349",
     "exception": false,
     "start_time": "2022-11-13T14:41:55.425919",
     "status": "completed"
    },
    "tags": []
   },
   "outputs": [
    {
     "data": {
      "image/png": "[encoded data removed]",
      "text/plain": [
       "<Figure size 864x576 with 1 Axes>"
      ]
     },
     "metadata": {},
     "output_type": "display_data"
    }
   ],
   "source": [
    "evaluate(X_train,y_train)"
   ]
  },
  {
   "cell_type": "markdown",
   "id": "880196e2",
   "metadata": {
    "papermill": {
     "duration": 0.013577,
     "end_time": "2022-11-13T14:43:39.112535",
     "exception": false,
     "start_time": "2022-11-13T14:43:39.098958",
     "status": "completed"
    },
    "tags": []
   },
   "source": [
    "# Cost Sensitive Learning"
   ]
  },
  {
   "cell_type": "code",
   "execution_count": 19,
   "id": "bf456545",
   "metadata": {
    "execution": {
     "iopub.execute_input": "2022-11-13T14:43:39.144695Z",
     "iopub.status.busy": "2022-11-13T14:43:39.143834Z",
     "iopub.status.idle": "2022-11-13T14:43:39.162068Z",
     "shell.execute_reply": "2022-11-13T14:43:39.160694Z"
    },
    "papermill": {
     "duration": 0.037314,
     "end_time": "2022-11-13T14:43:39.164994",
     "exception": false,
     "start_time": "2022-11-13T14:43:39.127680",
     "status": "completed"
    },
    "tags": []
   },
   "outputs": [
    {
     "data": {
      "text/plain": [
       "14.632870864461045"
      ]
     },
     "execution_count": 19,
     "metadata": {},
     "output_type": "execute_result"
    }
   ],
   "source": [
    "from collections import Counter\n",
    "counter = Counter(y_train)\n",
    "estimate = counter[0] / counter[1]\n",
    "estimate"
   ]
  },
  {
   "cell_type": "code",
   "execution_count": 20,
   "id": "417cc148",
   "metadata": {
    "execution": {
     "iopub.execute_input": "2022-11-13T14:43:39.195597Z",
     "iopub.status.busy": "2022-11-13T14:43:39.194908Z",
     "iopub.status.idle": "2022-11-13T14:43:39.203737Z",
     "shell.execute_reply": "2022-11-13T14:43:39.202210Z"
    },
    "papermill": {
     "duration": 0.028002,
     "end_time": "2022-11-13T14:43:39.206866",
     "exception": false,
     "start_time": "2022-11-13T14:43:39.178864",
     "status": "completed"
    },
    "tags": []
   },
   "outputs": [],
   "source": [
    "def get_models():\n",
    "    \n",
    "    models=[]\n",
    "    names=[]\n",
    "    \n",
    "    models.append(LogisticRegression(class_weight='balanced'))\n",
    "    names.append('lr')               \n",
    "                  \n",
    "    models.append(RandomForestClassifier(class_weight='balanced_subsample'))\n",
    "    names.append('rf')\n",
    "    \n",
    "    models.append(XGBClassifier(scale_pos_weight=estimate))\n",
    "    names.append('xgb')\n",
    "    \n",
    "    models.append(LGBMClassifier(class_weight='balanced'))\n",
    "    names.append('lgb')\n",
    "    \n",
    "    return models,names"
   ]
  },
  {
   "cell_type": "code",
   "execution_count": 21,
   "id": "4f9ef16c",
   "metadata": {
    "execution": {
     "iopub.execute_input": "2022-11-13T14:43:39.237213Z",
     "iopub.status.busy": "2022-11-13T14:43:39.236501Z",
     "iopub.status.idle": "2022-11-13T14:45:28.098017Z",
     "shell.execute_reply": "2022-11-13T14:45:28.096673Z"
    },
    "papermill": {
     "duration": 108.893198,
     "end_time": "2022-11-13T14:45:28.114162",
     "exception": false,
     "start_time": "2022-11-13T14:43:39.220964",
     "status": "completed"
    },
    "tags": []
   },
   "outputs": [
    {
     "data": {
      "image/png": "[encoded data removed]",
      "text/plain": [
       "<Figure size 864x576 with 1 Axes>"
      ]
     },
     "metadata": {},
     "output_type": "display_data"
    }
   ],
   "source": [
    "evaluate(X_train,y_train)"
   ]
  },
  {
   "cell_type": "markdown",
   "id": "fa0f28c8",
   "metadata": {
    "papermill": {
     "duration": 0.013164,
     "end_time": "2022-11-13T14:45:28.141159",
     "exception": false,
     "start_time": "2022-11-13T14:45:28.127995",
     "status": "completed"
    },
    "tags": []
   },
   "source": [
    "# Data Sampling"
   ]
  },
  {
   "cell_type": "code",
   "execution_count": 22,
   "id": "a884420b",
   "metadata": {
    "execution": {
     "iopub.execute_input": "2022-11-13T14:45:28.171297Z",
     "iopub.status.busy": "2022-11-13T14:45:28.170877Z",
     "iopub.status.idle": "2022-11-13T14:46:53.582137Z",
     "shell.execute_reply": "2022-11-13T14:46:53.580154Z"
    },
    "papermill": {
     "duration": 85.430849,
     "end_time": "2022-11-13T14:46:53.585653",
     "exception": false,
     "start_time": "2022-11-13T14:45:28.154804",
     "status": "completed"
    },
    "tags": []
   },
   "outputs": [],
   "source": [
    "resample=EditedNearestNeighbours()\n",
    "X_rs,y_rs=resample.fit_resample(X_train,y_train)"
   ]
  },
  {
   "cell_type": "code",
   "execution_count": 23,
   "id": "2251041f",
   "metadata": {
    "execution": {
     "iopub.execute_input": "2022-11-13T14:46:53.620107Z",
     "iopub.status.busy": "2022-11-13T14:46:53.619547Z",
     "iopub.status.idle": "2022-11-13T14:48:20.858358Z",
     "shell.execute_reply": "2022-11-13T14:48:20.857178Z"
    },
    "papermill": {
     "duration": 87.272378,
     "end_time": "2022-11-13T14:48:20.874212",
     "exception": false,
     "start_time": "2022-11-13T14:46:53.601834",
     "status": "completed"
    },
    "tags": []
   },
   "outputs": [
    {
     "data": {
      "image/png": "[encoded data removed]",
      "text/plain": [
       "<Figure size 864x576 with 1 Axes>"
      ]
     },
     "metadata": {},
     "output_type": "display_data"
    }
   ],
   "source": [
    "evaluate(X_rs,y_rs)"
   ]
  },
  {
   "cell_type": "markdown",
   "id": "fcb08b47",
   "metadata": {
    "papermill": {
     "duration": 0.01293,
     "end_time": "2022-11-13T14:48:20.900160",
     "exception": false,
     "start_time": "2022-11-13T14:48:20.887230",
     "status": "completed"
    },
    "tags": []
   },
   "source": [
    "**Data smapling with combination of smote and edited nearest neighbor has substantially increased the model performance,therefore we will use it. LightGBM has performed best therefore we will use it.**"
   ]
  },
  {
   "cell_type": "code",
   "execution_count": 24,
   "id": "de972058",
   "metadata": {
    "execution": {
     "iopub.execute_input": "2022-11-13T14:48:20.929631Z",
     "iopub.status.busy": "2022-11-13T14:48:20.928319Z",
     "iopub.status.idle": "2022-11-13T14:48:20.933952Z",
     "shell.execute_reply": "2022-11-13T14:48:20.933162Z"
    },
    "papermill": {
     "duration": 0.022689,
     "end_time": "2022-11-13T14:48:20.936241",
     "exception": false,
     "start_time": "2022-11-13T14:48:20.913552",
     "status": "completed"
    },
    "tags": []
   },
   "outputs": [],
   "source": [
    "X_train,y_train=X_rs,y_rs"
   ]
  },
  {
   "cell_type": "markdown",
   "id": "1ddf6048",
   "metadata": {
    "papermill": {
     "duration": 0.013154,
     "end_time": "2022-11-13T14:48:20.963083",
     "exception": false,
     "start_time": "2022-11-13T14:48:20.949929",
     "status": "completed"
    },
    "tags": []
   },
   "source": [
    "# Feature Selection"
   ]
  },
  {
   "cell_type": "code",
   "execution_count": 25,
   "id": "3c43ee46",
   "metadata": {
    "execution": {
     "iopub.execute_input": "2022-11-13T14:48:20.992285Z",
     "iopub.status.busy": "2022-11-13T14:48:20.991165Z",
     "iopub.status.idle": "2022-11-13T14:48:22.352726Z",
     "shell.execute_reply": "2022-11-13T14:48:22.351453Z"
    },
    "papermill": {
     "duration": 1.379139,
     "end_time": "2022-11-13T14:48:22.355620",
     "exception": false,
     "start_time": "2022-11-13T14:48:20.976481",
     "status": "completed"
    },
    "tags": []
   },
   "outputs": [
    {
     "data": {
      "image/png": "[encoded data removed]",
      "text/plain": [
       "<Figure size 864x576 with 1 Axes>"
      ]
     },
     "metadata": {},
     "output_type": "display_data"
    }
   ],
   "source": [
    "model=LGBMClassifier(class_weight='balanced',random_state=1)\n",
    "model.fit(X_train,y_train)\n",
    "\n",
    "fi=pd.Series(model.feature_importances_).sort_values(ascending=False).head(20)\n",
    "fi.plot(kind='barh');"
   ]
  },
  {
   "cell_type": "markdown",
   "id": "2f6df10b",
   "metadata": {
    "papermill": {
     "duration": 0.013132,
     "end_time": "2022-11-13T14:48:22.382488",
     "exception": false,
     "start_time": "2022-11-13T14:48:22.369356",
     "status": "completed"
    },
    "tags": []
   },
   "source": [
    "**Only few variable are important fot prediction**"
   ]
  },
  {
   "cell_type": "code",
   "execution_count": 26,
   "id": "06733ada",
   "metadata": {
    "execution": {
     "iopub.execute_input": "2022-11-13T14:48:22.411129Z",
     "iopub.status.busy": "2022-11-13T14:48:22.410733Z",
     "iopub.status.idle": "2022-11-13T14:48:22.415662Z",
     "shell.execute_reply": "2022-11-13T14:48:22.414607Z"
    },
    "papermill": {
     "duration": 0.021909,
     "end_time": "2022-11-13T14:48:22.417912",
     "exception": false,
     "start_time": "2022-11-13T14:48:22.396003",
     "status": "completed"
    },
    "tags": []
   },
   "outputs": [],
   "source": [
    "col=fi.index\n",
    "col=col.to_list()"
   ]
  },
  {
   "cell_type": "code",
   "execution_count": 27,
   "id": "59e43c57",
   "metadata": {
    "execution": {
     "iopub.execute_input": "2022-11-13T14:48:22.447325Z",
     "iopub.status.busy": "2022-11-13T14:48:22.446729Z",
     "iopub.status.idle": "2022-11-13T14:48:55.900370Z",
     "shell.execute_reply": "2022-11-13T14:48:55.899419Z"
    },
    "papermill": {
     "duration": 33.471724,
     "end_time": "2022-11-13T14:48:55.903467",
     "exception": false,
     "start_time": "2022-11-13T14:48:22.431743",
     "status": "completed"
    },
    "tags": []
   },
   "outputs": [],
   "source": [
    "results=[]\n",
    "\n",
    "for i in range(15,30):\n",
    "    model=LGBMClassifier(class_weight='balanced',random_state=1)\n",
    "    cv=StratifiedKFold(n_splits=5)\n",
    "    metric=make_scorer(f1_score)\n",
    "    scores=cross_val_score(model,X_train[:,col[:i]],y_train,scoring=metric,cv=cv)\n",
    "    results.append(scores)"
   ]
  },
  {
   "cell_type": "code",
   "execution_count": 28,
   "id": "4d8e2fc5",
   "metadata": {
    "execution": {
     "iopub.execute_input": "2022-11-13T14:48:55.934280Z",
     "iopub.status.busy": "2022-11-13T14:48:55.933831Z",
     "iopub.status.idle": "2022-11-13T14:48:56.366966Z",
     "shell.execute_reply": "2022-11-13T14:48:56.364866Z"
    },
    "papermill": {
     "duration": 0.45196,
     "end_time": "2022-11-13T14:48:56.370402",
     "exception": false,
     "start_time": "2022-11-13T14:48:55.918442",
     "status": "completed"
    },
    "tags": []
   },
   "outputs": [
    {
     "data": {
      "image/png": "[encoded data removed]",
      "text/plain": [
       "<Figure size 864x576 with 1 Axes>"
      ]
     },
     "metadata": {},
     "output_type": "display_data"
    }
   ],
   "source": [
    "labels=[i for i in range(15,30)]\n",
    "plt.boxplot(results,labels=labels,showmeans=True);"
   ]
  },
  {
   "cell_type": "markdown",
   "id": "3b92fd65",
   "metadata": {
    "papermill": {
     "duration": 0.021783,
     "end_time": "2022-11-13T14:48:56.412393",
     "exception": false,
     "start_time": "2022-11-13T14:48:56.390610",
     "status": "completed"
    },
    "tags": []
   },
   "source": [
    "**Model performance increases till 19 features then becomes stagnant, therefore we will use 19 features.**"
   ]
  },
  {
   "cell_type": "code",
   "execution_count": 29,
   "id": "647e7b5b",
   "metadata": {
    "execution": {
     "iopub.execute_input": "2022-11-13T14:48:56.443289Z",
     "iopub.status.busy": "2022-11-13T14:48:56.442556Z",
     "iopub.status.idle": "2022-11-13T14:48:56.458738Z",
     "shell.execute_reply": "2022-11-13T14:48:56.457797Z"
    },
    "papermill": {
     "duration": 0.03483,
     "end_time": "2022-11-13T14:48:56.461726",
     "exception": false,
     "start_time": "2022-11-13T14:48:56.426896",
     "status": "completed"
    },
    "tags": []
   },
   "outputs": [],
   "source": [
    "X_train=X_train[:,col[:19]]\n",
    "X_test=X_test[:,col[:19]]"
   ]
  },
  {
   "cell_type": "markdown",
   "id": "43e2a47e",
   "metadata": {
    "papermill": {
     "duration": 0.013849,
     "end_time": "2022-11-13T14:48:56.490017",
     "exception": false,
     "start_time": "2022-11-13T14:48:56.476168",
     "status": "completed"
    },
    "tags": []
   },
   "source": [
    "# Hyperparameter Optimization"
   ]
  },
  {
   "cell_type": "code",
   "execution_count": 30,
   "id": "8109d9b2",
   "metadata": {
    "execution": {
     "iopub.execute_input": "2022-11-13T14:48:56.520065Z",
     "iopub.status.busy": "2022-11-13T14:48:56.519605Z",
     "iopub.status.idle": "2022-11-13T14:48:56.524521Z",
     "shell.execute_reply": "2022-11-13T14:48:56.523651Z"
    },
    "papermill": {
     "duration": 0.022495,
     "end_time": "2022-11-13T14:48:56.526717",
     "exception": false,
     "start_time": "2022-11-13T14:48:56.504222",
     "status": "completed"
    },
    "tags": []
   },
   "outputs": [],
   "source": [
    "from sklearn.model_selection import GridSearchCV"
   ]
  },
  {
   "cell_type": "code",
   "execution_count": 31,
   "id": "3fcce67f",
   "metadata": {
    "execution": {
     "iopub.execute_input": "2022-11-13T14:48:56.557498Z",
     "iopub.status.busy": "2022-11-13T14:48:56.556680Z",
     "iopub.status.idle": "2022-11-13T15:15:19.770497Z",
     "shell.execute_reply": "2022-11-13T15:15:19.769358Z"
    },
    "papermill": {
     "duration": 1583.242476,
     "end_time": "2022-11-13T15:15:19.783414",
     "exception": false,
     "start_time": "2022-11-13T14:48:56.540938",
     "status": "completed"
    },
    "tags": []
   },
   "outputs": [
    {
     "data": {
      "text/plain": [
       "GridSearchCV(cv=StratifiedKFold(n_splits=5, random_state=None, shuffle=False),\n",
       "             estimator=LGBMClassifier(class_weight='balanced', random_state=1),\n",
       "             n_jobs=-1,\n",
       "             param_grid={'learning_rate': array([0.01, 0.02, 0.03, 0.04, 0.05, 0.06, 0.07, 0.08, 0.09, 0.1 ]),\n",
       "                         'max_depth': range(6, 15),\n",
       "                         'n_estimators': range(100, 180, 10)},\n",
       "             scoring=make_scorer(f1_score))"
      ]
     },
     "execution_count": 31,
     "metadata": {},
     "output_type": "execute_result"
    }
   ],
   "source": [
    "param_grid={'n_estimators':range(100,180,10),\n",
    "            'max_depth':range(6,15),\n",
    "            'learning_rate':np.linspace(0.01, 0.1, num=10)}\n",
    "    \n",
    "model=LGBMClassifier(class_weight='balanced',random_state=1)\n",
    "cv=StratifiedKFold(n_splits=5)\n",
    "metric=make_scorer(f1_score)\n",
    "\n",
    "grid=GridSearchCV(model,param_grid,cv=cv,scoring=metric,n_jobs=-1)\n",
    "grid.fit(X_train,y_train)"
   ]
  },
  {
   "cell_type": "code",
   "execution_count": 32,
   "id": "1fa21ce5",
   "metadata": {
    "execution": {
     "iopub.execute_input": "2022-11-13T15:15:19.812635Z",
     "iopub.status.busy": "2022-11-13T15:15:19.811978Z",
     "iopub.status.idle": "2022-11-13T15:15:19.818022Z",
     "shell.execute_reply": "2022-11-13T15:15:19.817358Z"
    },
    "papermill": {
     "duration": 0.022884,
     "end_time": "2022-11-13T15:15:19.819787",
     "exception": false,
     "start_time": "2022-11-13T15:15:19.796903",
     "status": "completed"
    },
    "tags": []
   },
   "outputs": [
    {
     "data": {
      "text/plain": [
       "{'learning_rate': 0.09000000000000001, 'max_depth': 8, 'n_estimators': 160}"
      ]
     },
     "execution_count": 32,
     "metadata": {},
     "output_type": "execute_result"
    }
   ],
   "source": [
    "grid.best_params_"
   ]
  },
  {
   "cell_type": "code",
   "execution_count": 33,
   "id": "d5aa937d",
   "metadata": {
    "execution": {
     "iopub.execute_input": "2022-11-13T15:15:19.849204Z",
     "iopub.status.busy": "2022-11-13T15:15:19.848527Z",
     "iopub.status.idle": "2022-11-13T15:15:19.854329Z",
     "shell.execute_reply": "2022-11-13T15:15:19.853615Z"
    },
    "papermill": {
     "duration": 0.02273,
     "end_time": "2022-11-13T15:15:19.856153",
     "exception": false,
     "start_time": "2022-11-13T15:15:19.833423",
     "status": "completed"
    },
    "tags": []
   },
   "outputs": [
    {
     "data": {
      "text/plain": [
       "0.2169683367507084"
      ]
     },
     "execution_count": 33,
     "metadata": {},
     "output_type": "execute_result"
    }
   ],
   "source": [
    "grid.best_score_"
   ]
  },
  {
   "cell_type": "markdown",
   "id": "7ab69477",
   "metadata": {
    "papermill": {
     "duration": 0.013623,
     "end_time": "2022-11-13T15:15:19.883519",
     "exception": false,
     "start_time": "2022-11-13T15:15:19.869896",
     "status": "completed"
    },
    "tags": []
   },
   "source": [
    "# Solution"
   ]
  },
  {
   "cell_type": "code",
   "execution_count": 34,
   "id": "3c2c20f0",
   "metadata": {
    "execution": {
     "iopub.execute_input": "2022-11-13T15:15:19.912806Z",
     "iopub.status.busy": "2022-11-13T15:15:19.912164Z",
     "iopub.status.idle": "2022-11-13T15:15:20.030348Z",
     "shell.execute_reply": "2022-11-13T15:15:20.029375Z"
    },
    "papermill": {
     "duration": 0.135717,
     "end_time": "2022-11-13T15:15:20.032937",
     "exception": false,
     "start_time": "2022-11-13T15:15:19.897220",
     "status": "completed"
    },
    "tags": []
   },
   "outputs": [],
   "source": [
    "model=grid.best_estimator_\n",
    "y_pred=model.predict(X_test)"
   ]
  },
  {
   "cell_type": "code",
   "execution_count": 35,
   "id": "d88f086b",
   "metadata": {
    "execution": {
     "iopub.execute_input": "2022-11-13T15:15:20.064839Z",
     "iopub.status.busy": "2022-11-13T15:15:20.064410Z",
     "iopub.status.idle": "2022-11-13T15:15:20.115341Z",
     "shell.execute_reply": "2022-11-13T15:15:20.114437Z"
    },
    "papermill": {
     "duration": 0.069005,
     "end_time": "2022-11-13T15:15:20.117928",
     "exception": false,
     "start_time": "2022-11-13T15:15:20.048923",
     "status": "completed"
    },
    "tags": []
   },
   "outputs": [],
   "source": [
    "sol=pd.DataFrame({'policy_id':test['policy_id'],\n",
    "                  'is_claim':y_pred})\n",
    "\n",
    "sol.to_csv('submission.csv',index=False)"
   ]
  }
 ],
 "metadata": {
  "kernelspec": {
   "display_name": "Python 3",
   "language": "python",
   "name": "python3"
  },
  "language_info": {
   "codemirror_mode": {
    "name": "ipython",
    "version": 3
   },
   "file_extension": ".py",
   "mimetype": "text/x-python",
   "name": "python",
   "nbconvert_exporter": "python",
   "pygments_lexer": "ipython3",
   "version": "3.7.12"
  },
  "papermill": {
   "default_parameters": {},
   "duration": 2025.419342,
   "end_time": "2022-11-13T15:15:22.755775",
   "environment_variables": {},
   "exception": null,
   "input_path": "__notebook__.ipynb",
   "output_path": "__notebook__.ipynb",
   "parameters": {},
   "start_time": "2022-11-13T14:41:37.336433",
   "version": "2.3.4"
  }
 },
 "nbformat": 4,
 "nbformat_minor": 5
}
